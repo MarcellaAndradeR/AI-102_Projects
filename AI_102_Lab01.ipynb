{
  "nbformat": 4,
  "nbformat_minor": 0,
  "metadata": {
    "colab": {
      "provenance": []
    },
    "kernelspec": {
      "name": "python3",
      "display_name": "Python 3"
    },
    "language_info": {
      "name": "python"
    }
  },
  "cells": [
    {
      "cell_type": "code",
      "execution_count": 1,
      "metadata": {
        "colab": {
          "base_uri": "https://localhost:8080/"
        },
        "id": "5yNp2nvx2W83",
        "outputId": "51f02f51-d015-4b0f-f194-2e6841b99593"
      },
      "outputs": [
        {
          "output_type": "stream",
          "name": "stdout",
          "text": [
            "Requirement already satisfied: requests in /usr/local/lib/python3.10/dist-packages (2.32.3)\n",
            "Collecting python-docx\n",
            "  Downloading python_docx-1.1.2-py3-none-any.whl.metadata (2.0 kB)\n",
            "Requirement already satisfied: charset-normalizer<4,>=2 in /usr/local/lib/python3.10/dist-packages (from requests) (3.4.0)\n",
            "Requirement already satisfied: idna<4,>=2.5 in /usr/local/lib/python3.10/dist-packages (from requests) (3.10)\n",
            "Requirement already satisfied: urllib3<3,>=1.21.1 in /usr/local/lib/python3.10/dist-packages (from requests) (2.2.3)\n",
            "Requirement already satisfied: certifi>=2017.4.17 in /usr/local/lib/python3.10/dist-packages (from requests) (2024.8.30)\n",
            "Requirement already satisfied: lxml>=3.1.0 in /usr/local/lib/python3.10/dist-packages (from python-docx) (5.3.0)\n",
            "Requirement already satisfied: typing-extensions>=4.9.0 in /usr/local/lib/python3.10/dist-packages (from python-docx) (4.12.2)\n",
            "Downloading python_docx-1.1.2-py3-none-any.whl (244 kB)\n",
            "\u001b[2K   \u001b[90m━━━━━━━━━━━━━━━━━━━━━━━━━━━━━━━━━━━━━━━━\u001b[0m \u001b[32m244.3/244.3 kB\u001b[0m \u001b[31m6.0 MB/s\u001b[0m eta \u001b[36m0:00:00\u001b[0m\n",
            "\u001b[?25hInstalling collected packages: python-docx\n",
            "Successfully installed python-docx-1.1.2\n"
          ]
        }
      ],
      "source": [
        "!pip install requests python-docx"
      ]
    },
    {
      "cell_type": "markdown",
      "source": [
        "#Parte 1 - Tradução de Documentos"
      ],
      "metadata": {
        "id": "RxqcDIDT37nP"
      }
    },
    {
      "cell_type": "code",
      "source": [
        "import requests\n",
        "from docx import Document\n",
        "import os"
      ],
      "metadata": {
        "id": "8JFzSh9E2h2w"
      },
      "execution_count": null,
      "outputs": []
    },
    {
      "cell_type": "code",
      "source": [
        "# Configuração da API\n",
        "\n",
        "subscription_key = \"AIzaSyDZCDejhkDGfFVUTo6NNFrk4RYm\"\n",
        "\n",
        "endpoint = 'https://api.cognitive.microsofttranslator.com'\n",
        "\n",
        "location = \"eastus\"\n",
        "\n",
        "language_destination = 'pt-br'"
      ],
      "metadata": {
        "id": "VV4aHJX72h45"
      },
      "execution_count": null,
      "outputs": []
    },
    {
      "cell_type": "code",
      "source": [
        "def translator_text(text, target_language):\n",
        "\n",
        "  # Função de tradução do texto\n",
        "  headers = {'Ocp-Apim-Subscription-Key': subscription_key, 'Content-type': 'application/json'}\n",
        "  params = {'api-version': \"3.0\", 'from': 'en', 'to': target_language}\n",
        "  body = [{'text': text}]\n",
        "  response = requests.post(endpoint + \"/translate\", params=params, headers=headers, json=body)\n",
        "\n",
        "  return response.json()[0][\"translations\"][0][\"text\"]"
      ],
      "metadata": {
        "id": "dT6-5kal2h60"
      },
      "execution_count": null,
      "outputs": []
    },
    {
      "cell_type": "code",
      "source": [
        "def translate_document(path):\n",
        "  # Função para traduzir um documento\n",
        "  document = Document(path)\n",
        "  translated_doc = Document()\n",
        "  for paragraph in document.paragraphs:\n",
        "    translated_text = translator_text(paragraph.text, language_destination)\n",
        "    translated_doc.add_paragraph(translated_text)\n",
        "  translated_doc.save(path.replace(\".docx\", \"_translated.docx\"))"
      ],
      "metadata": {
        "id": "KY04w_JY2h8_"
      },
      "execution_count": null,
      "outputs": []
    },
    {
      "cell_type": "markdown",
      "source": [
        "#Parte 2 - Tradução de Páginas da Web"
      ],
      "metadata": {
        "id": "bhzH0x473o1h"
      }
    },
    {
      "cell_type": "code",
      "source": [
        "from bs4 import BeautifulSoup\n",
        "from docx import Document\n",
        "import requests"
      ],
      "metadata": {
        "id": "T6zbi45c2h-0"
      },
      "execution_count": null,
      "outputs": []
    },
    {
      "cell_type": "code",
      "source": [
        "def fetch_and_translate(url):\n",
        "\n",
        "  # Baixar e traduzir o conteúdo de uma página web\n",
        "  response = requests.get(url)\n",
        "  soup = BeautifulSoup(response.text, 'html.parser')\n",
        "  text = \"\\n\".join([p.get_text() for p in soup.find_all('p')])\n",
        "  translated_text = translator_text(text, language_destination)\n",
        "  doc = Document()\n",
        "  doc.add_paragraph(translated_text)\n",
        "  doc.save(\"translated_webpage.docx\")"
      ],
      "metadata": {
        "id": "6jiobHgW2iCc"
      },
      "execution_count": null,
      "outputs": []
    }
  ]
}